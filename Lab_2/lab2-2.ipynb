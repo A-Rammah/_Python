{
 "cells": [
  {
   "cell_type": "markdown",
   "metadata": {},
   "source": [
    "Write a function calculate_salary that calculates the salary of an employee based on their hourly rate and the number of hours they\n",
    "worked in a week. \n",
    "\n",
    "The function should follow these rules:\n",
    "1. The regular hourly rate applies for up to 40 hours.\n",
    "2. For hours above 40, the hourly rate is multiplied by 1.5 (overtime rate).\n",
    "3. The function should return the total salary for the week.\n",
    "\n",
    "Input Format\n",
    "\n",
    "- hourly_rate: A float representing the hourly rate of pay.\n",
    "- hours_worked: An integer representing the number of hours worked in a week.\n",
    "\n",
    "Output\n",
    "- A float representing the total salary for the week.\n",
    "\n",
    "**Sample Input 1**\n",
    "\n",
    "`calculate_salary(15, 35)`\n",
    "\n",
    "**Sample Output 1**\n",
    "\n",
    "Expected output: 525 (15 * 35)\n",
    "\n",
    "**Sample Input 2**\n",
    "\n",
    "`calculate_salary(15, 45)`\n",
    "\n",
    "**Sample Output 2**\n",
    "\n",
    "Expected output: 712.5 (15 * 40 + 15 * 1.5 * 5)"
   ]
  },
  {
   "cell_type": "code",
   "execution_count": 18,
   "metadata": {},
   "outputs": [
    {
     "name": "stdout",
     "output_type": "stream",
     "text": [
      "Total Salary: 525\n",
      "Base Weekly Salary:  675\n",
      "Hourly Rate for Regular Hours:  15\n",
      "Hourly Rate for Extra Hours:  22.5\n",
      "Extra Hours:  5\n",
      "Extra Hours Difference:  75\n",
      "Total Salary: 787.5\n"
     ]
    }
   ],
   "source": [
    "def calculate_salary(hourly_rate:float, hours_worked:int=40):\n",
    "\n",
    "    # calculate_salary(15, 45)\n",
    "    if hours_worked > 40:\n",
    "        base_salary = hours_worked * hourly_rate # == 45 * 15 = 675\n",
    "        print(\"Base Weekly Salary: \", base_salary)\n",
    "        print(\"Hourly Rate for Regular Hours: \", hourly_rate)\n",
    "        new_hourly_rate = hourly_rate * 1.5 # == 15 * 1.5 = 22.5\n",
    "        print(\"Hourly Rate for Extra Hours: \", new_hourly_rate)\n",
    "        extra_hours = hours_worked - 40 # == 5\n",
    "        print(\"Extra Hours: \", extra_hours)\n",
    "        print(\"Extra Hours Difference: \", (extra_hours * hourly_rate))\n",
    "        total_salary = base_salary + extra_hours * new_hourly_rate # == 675 + 5 * 22.5 = 787.5\n",
    "    else:\n",
    "        total_salary = hours_worked * hourly_rate\n",
    "\n",
    "    return f\"Total Salary: {total_salary}\"\n",
    "\n",
    "\n",
    "# calculate_salary(10)\n",
    "print(calculate_salary(15, 35))\n",
    "print(calculate_salary(15, 45))"
   ]
  }
 ],
 "metadata": {
  "kernelspec": {
   "display_name": "Python 3",
   "language": "python",
   "name": "python3"
  },
  "language_info": {
   "codemirror_mode": {
    "name": "ipython",
    "version": 3
   },
   "file_extension": ".py",
   "mimetype": "text/x-python",
   "name": "python",
   "nbconvert_exporter": "python",
   "pygments_lexer": "ipython3",
   "version": "3.11.9"
  }
 },
 "nbformat": 4,
 "nbformat_minor": 2
}
