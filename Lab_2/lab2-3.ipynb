{
 "cells": [
  {
   "cell_type": "code",
   "execution_count": 42,
   "metadata": {},
   "outputs": [
    {
     "name": "stdout",
     "output_type": "stream",
     "text": [
      "alpha_letters: {'a': 3, 'b': 3, 'e': 3, 't': 4, 's': 5, 'r': 4, 'u': 4}\n",
      "a 3\n",
      "b 3\n",
      "e 3\n",
      "t 4\n",
      "r 4\n",
      "u 4\n",
      "s 5\n",
      "New alpha: {'a': 3, 'b': 3, 'e': 3, 't': 4, 'r': 4, 'u': 4, 's': 5}\n",
      "None\n"
     ]
    }
   ],
   "source": [
    "#Lab 2-3:\n",
    "\n",
    "# aaabbbeeettttsssssrrrruuuu\n",
    "def letter_frequency(sentence:str):\n",
    "    \n",
    "    alpha_letters={}\n",
    "    \n",
    "    for letter in sentence:\n",
    "        if letter.isalpha():\n",
    "            if letter in alpha_letters:\n",
    "               alpha_letters[letter] += 1\n",
    "            else:\n",
    "                alpha_letters[letter] = 1\n",
    "    print(\"alpha_letters:\", alpha_letters)\n",
    "\n",
    "    new_alpha_letters = {}\n",
    "\n",
    "    for key in sorted(alpha_letters, key=alpha_letters.get):\n",
    "        print(key, alpha_letters[key], sep=\" \")\n",
    "        new_alpha_letters.update({key: alpha_letters[key]})\n",
    "    sorted(new_alpha_letters.keys(), reverse=True)\n",
    "    print(\"New alpha:\" , new_alpha_letters)\n",
    "    # Callback function to sort the dict keys alphabetically if the keys have the same frequency. \n",
    "    # I need to sort the dict by descending order.\n",
    "    # sorted_alpha_by_values = sorted(alpha_letters.values())\n",
    "    #sorted_alpha_by_values_dict = dict(sorted_alpha_by_values)\n",
    "    # print(\"sorted_alpha_by_values:\", sorted_alpha_by_values)\n",
    "    #print(\"sorted_alpha_by_values_dict:\", sorted_alpha_by_values_dict)\n",
    "    \"\"\"\"\n",
    "    # Then sort by alphabetical order.\n",
    "\n",
    "    # def key_callback_func(letters: dict):\n",
    "    #     for letter, freq in letters.items():\n",
    "    #         freq = letters[\"letter\"]\n",
    "    #         if freq > 1:\n",
    "    #             pass\n",
    "    #     return # letter\n",
    "\n",
    "\n",
    "\n",
    "\n",
    "\n",
    "    # sorted_alpha_by_values_dict = dict(sorted_alpha_by_values)\n",
    "    # print(\"sorted_alpha_by_values_dict:\", sorted_alpha_by_values_dict)\n",
    "\n",
    "    # sorted_alpha_by_values_keys = sorted(sorted_alpha_by_values_dict.keys())\n",
    "    # print(\"sorted_alpha_by_values_keys:\", sorted_alpha_by_values_keys)\n",
    "\n",
    "    # freq_lst_sorted = []\n",
    "    # for letter_key in alpha_letters.items():\n",
    "    #     freq_lst_sorted.append(letter_key[freq])\n",
    "        \n",
    "    # freq_lst_sorted.sort()\n",
    "    # print(freq_lst_sorted)\n",
    "\n",
    "    # freq_lst_sorted\n",
    "    # sorted_alpha = {}\n",
    "\n",
    "    # for freq in freq_lst_sorted:\n",
    "    #     if freq_lst_sorted.count(freq) > 1:\n",
    "    #         alpha_letters[letter] += 1\n",
    "    #     else:\n",
    "    #         alpha_letters[letter] = 1\n",
    "\n",
    "    \n",
    "    return sorted_alpha_by_values\n",
    "    \"\"\"\n",
    "sentence=input().lower()\n",
    "print(letter_frequency(sentence))"
   ]
  },
  {
   "cell_type": "markdown",
   "metadata": {},
   "source": [
    "alpha_letters: {'a': 3, 'b': 4, 'e': 3, 't': 4, 's': 5}\n",
    "a 3\n",
    "e 3\n",
    "b 4\n",
    "t 4\n",
    "s 5\n",
    "New alpha: {'a': 3, 'e': 3, 'b': 4, 't': 4, 's': 5}\n",
    "None"
   ]
  },
  {
   "cell_type": "markdown",
   "metadata": {},
   "source": []
  }
 ],
 "metadata": {
  "kernelspec": {
   "display_name": "Python 3",
   "language": "python",
   "name": "python3"
  },
  "language_info": {
   "codemirror_mode": {
    "name": "ipython",
    "version": 3
   },
   "file_extension": ".py",
   "mimetype": "text/x-python",
   "name": "python",
   "nbconvert_exporter": "python",
   "pygments_lexer": "ipython3",
   "version": "3.11.9"
  }
 },
 "nbformat": 4,
 "nbformat_minor": 2
}
