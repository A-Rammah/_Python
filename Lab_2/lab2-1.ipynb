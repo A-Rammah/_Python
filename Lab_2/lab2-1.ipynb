{
 "cells": [
  {
   "cell_type": "markdown",
   "metadata": {},
   "source": [
    "An extra day is added to the calendar almost every four years as February 29, and the day is called a leap day. It corrects the calendar for\n",
    "the fact that our planet takes approximately 365.25 days to orbit the sun. A leap year contains a leap day.\n",
    "\n",
    "In the Gregorian calendar, three conditions are used to identify leap years:\n",
    "1. The year can be evenly divided by 4, is a leap year, unless:\n",
    "2. The year can be evenly divided by 100, it is NOT a leap year, unless:\n",
    "3. The year is also evenly divisible by 400. Then it is a leap year.\n",
    "\n",
    "This means that in the Gregorian calendar, the years 2000 and 2400 are leap years, while 1800, 1900, 2100, 2200, 2300 and 2500 are\n",
    "NOT leap years.\n",
    "\n",
    "Task\n",
    "Given a year, determine whether it is a leap year. If it is a leap year, return the Boolean True, otherwise return False.\n",
    "\n",
    "**NOTE:** that the code stub provided reads from STDIN and passes arguments to theis_leap function. It is only necessary to complete\n",
    "the is_leap function.\n",
    "\n",
    "**Input Format:**\n",
    "\n",
    "Read year, the year to test.\n",
    "\n",
    "**Constraints:**\n",
    "\n",
    "1900 <= year < 105\n",
    "\n",
    "**Sample Input:**\n",
    "\n",
    "1990\n",
    "\n",
    "**Sample Output:**\n",
    "\n",
    "False\n",
    "\n",
    "**Explanation:**\n",
    "\n",
    "1990 is not a multiple of 4 hence it's not a leap year."
   ]
  },
  {
   "cell_type": "code",
   "execution_count": null,
   "metadata": {},
   "outputs": [],
   "source": [
    "# Take input 'Year' from user.\n",
    "while True:\n",
    "    year = int(input(\"\"\"Please enter a year to evaluate if leap year:\\n \n",
    "                     Type 'close' to terminate the program. \"\"\"))\n",
    "    # Run the logic\n",
    "    \"\"\"\n",
    "    1. The year can be evenly divided by 4, is a leap year, unless:\n",
    "    2. The year can be evenly divided by 100, it is NOT a leap year, unless:\n",
    "    3. The year is also evenly divisible by 400. Then it is a leap year.\n",
    "    \"\"\"\n",
    "    # year 2400 should be a leap year.\n",
    "    if 1900 <= year < 10 ** 5: \n",
    "        if ( (year % 4 == 0) and (year % 100 == 0) and (year % 400 == 0) ) or ( (year % 4 == 0) and not (year % 100 == 0) ):\n",
    "            print(True)\n",
    "        else:\n",
    "            print(False)\n",
    "\n",
    "\n",
    "    else:\n",
    "        print(\"Year out of range, please enter a valid year (range = 1900:1000000)\")\n",
    "    \n",
    "    # if \n",
    "    #     str(input()).lower() == 'close':\n",
    "    #     break\n"
   ]
  }
 ],
 "metadata": {
  "kernelspec": {
   "display_name": "Python 3",
   "language": "python",
   "name": "python3"
  },
  "language_info": {
   "codemirror_mode": {
    "name": "ipython",
    "version": 3
   },
   "file_extension": ".py",
   "mimetype": "text/x-python",
   "name": "python",
   "nbconvert_exporter": "python",
   "pygments_lexer": "ipython3",
   "version": "3.11.9"
  }
 },
 "nbformat": 4,
 "nbformat_minor": 2
}
