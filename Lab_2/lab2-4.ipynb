{
 "cells": [
  {
   "cell_type": "markdown",
   "metadata": {},
   "source": [
    "**Write a Python function that encodes a string based on the following rules:**\n",
    "1. Replace each character in the string with its position in the English alphabet (e.g., a -> 1, b -> 2, ..., z -> 26).\n",
    "2. If the character is uppercase, double its position (e.g., A -> 2, B -> 4, ..., Z -> 52).\n",
    "3. Non-alphabetic characters (such as digits, spaces, punctuation) should be ignored in the output.\n",
    "4. Return the encoded string where each number is separated by a hyphen (-).\n",
    "\n",
    "**Constraints:**\n",
    "- The input string will only contain printable characters.\n",
    "- The function must handle both lowercase and uppercase characters.\n",
    "- You are not allowed to use any Python built-in libraries (e.g., ord, chr) or imported modules.\n",
    "\n",
    "**Output:**\n",
    "A dictionary with letters as keys and their frequencies as values, sorted by frequency in descending order.\n",
    "\n",
    "**Input Format:**\n",
    "A single string containing any printable characters.\n",
    "\n",
    "**Output Format:**\n",
    "A single string containing the encoded values of the characters, separated by hyphens."
   ]
  },
  {
   "cell_type": "code",
   "execution_count": 42,
   "metadata": {},
   "outputs": [
    {
     "name": "stdout",
     "output_type": "stream",
     "text": [
      "1-19-4-1-19-4\n"
     ]
    }
   ],
   "source": [
    "sentence = input(\"Please enter your sentence!\")\n",
    "\n",
    "def encode_sentence(sentence):\n",
    "\n",
    "    alphabet = ['a', 'b', 'c', 'd', 'e', 'f', 'g', 'h', 'i', 'j', 'k', 'l', 'm', 'n', 'o', 'p', 'q', 'r', 's', 't', 'u', 'v', 'w', 'x', 'y', 'z']\n",
    "    char_list = []\n",
    "    # input: abceeABCeE\n",
    "\n",
    "    for char in sentence:\n",
    "        if char.isprintable() and char.isalpha():\n",
    "            idx = 0\n",
    "            while idx < len(alphabet):\n",
    "                if char.islower() and char == alphabet[idx]:\n",
    "                    encoded_char = str(alphabet.index(char) + 1)\n",
    "                    char_list.append(encoded_char)\n",
    "                    break\n",
    "                elif char.isupper() and char.lower() == alphabet[idx]:\n",
    "                    encoded_char = str((alphabet.index(char.lower())+1) * 2)\n",
    "                    char_list.append(encoded_char)\n",
    "                    break\n",
    "                idx += 1\n",
    "    encoded_char_list = \"-\".join(char_list)\n",
    "    print(encoded_char_list)\n",
    "\n",
    "encode_sentence(sentence)"
   ]
  }
 ],
 "metadata": {
  "kernelspec": {
   "display_name": "Python 3",
   "language": "python",
   "name": "python3"
  },
  "language_info": {
   "codemirror_mode": {
    "name": "ipython",
    "version": 3
   },
   "file_extension": ".py",
   "mimetype": "text/x-python",
   "name": "python",
   "nbconvert_exporter": "python",
   "pygments_lexer": "ipython3",
   "version": "3.11.9"
  }
 },
 "nbformat": 4,
 "nbformat_minor": 2
}
