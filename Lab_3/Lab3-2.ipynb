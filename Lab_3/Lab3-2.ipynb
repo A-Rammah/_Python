{
 "cells": [
  {
   "cell_type": "markdown",
   "metadata": {},
   "source": [
    "## LAB 3-2\n",
    "\n",
    "> Implement `Person` and `Employee` classes class.\n",
    "#### 1. Implement the `Person` class:\n",
    "* Initialize attributes: name, age, address, and phone.\n",
    "* Method: `greet()` - Prints \"Hello I am [name]\".\n",
    "* Method: `is_adult()` - Returns True if age > 18, otherwise False.\n",
    "* Method: `contact_details()` - Prints address and phone.\n",
    "\n",
    "#### 2. Implement the `Employee` class (inherits from `Person`):\n",
    "* Additional attributes: salary, office_address, and office_phone.\n",
    "* Method: `calculate_tax()` - Returns 5% of salary if salary >= 5000, else 0.\n",
    "* Method: `contact_details()` - Prints Personal contact details and office contact details.\n",
    "\n",
    "#### 3. Create an `Employee` object:\n",
    "* Name: Jack, Age: 30, Address: D4, XYZ Street, Phone: 994477291\n",
    "* Salary: 8000, Office Address: ABC Street, Office Phone: 384923993\n",
    "\n",
    "#### 4. Display the contact details of the `Employee`. Implement both classes and the specified operations.\n",
    "\n",
    "<u>**Hint**</u>: Use the `super()` function to call parent class methods when required."
   ]
  },
  {
   "cell_type": "code",
   "execution_count": 47,
   "metadata": {},
   "outputs": [
    {
     "name": "stdout",
     "output_type": "stream",
     "text": [
      "Address: D4, XYZ Street | Phone No.:994477291\n",
      "Office Address: ABC Street | Office Phone No.: 384923993\n"
     ]
    }
   ],
   "source": [
    "class Person:\n",
    "    def __init__(self, name, age, address, phone: str):\n",
    "        self.name = name\n",
    "        self.age = age\n",
    "        self.address = address\n",
    "        self.phone = phone\n",
    "    \n",
    "    def __repr__(self):\n",
    "        return f\"Name: {self.name} | Age: {self.age} | Address: {self.address} | Phone No.: {self.phone}\"\n",
    "\n",
    "    def greet(self):\n",
    "        print(f\"Hello I am {self.name}\")\n",
    "\n",
    "    def is_adult(self):\n",
    "        if self.age > 18:\n",
    "            return True \n",
    "        else:\n",
    "            return False\n",
    "        \n",
    "    def contact_details(self):\n",
    "        print(f\"Address: {self.address} | Phone No.:{self.phone}\")\n",
    "\n",
    "class Employee(Person):\n",
    "    def __init__(self, name, age, address, phone, salary=0, office_address='N/A', office_phone=0000000):\n",
    "        super().__init__(name, age, address, phone)\n",
    "        self.salary = salary\n",
    "        self.office_address = office_address\n",
    "        self.office_phone = office_phone\n",
    "    \n",
    "    def calculate_tax(self):\n",
    "        if self.salary >= 5000:\n",
    "            return (self.salary*0.05)\n",
    "        else:\n",
    "            return 0\n",
    "        \n",
    "    # def contact_details(self):\n",
    "    #     print(f\"Office Address: {self.address} | Office Phone No.: {self.phone}\")\n",
    "    \n",
    "    def contact_details(self):\n",
    "        super().contact_details()\n",
    "        print(f\"Office Address: {self.office_address} | Office Phone No.: {self.office_phone}\")\n",
    "        \n",
    "# p1 = Person('Ahmed', 19, '35 street 103', '+201120015269')\n",
    "# p1.greet()\n",
    "# print(p1.is_adult())\n",
    "# p1.contact_details()\n",
    "# print(p1)\n",
    "\n",
    "e1 = Employee('Jack', 30, 'D4, XYZ Street', '994477291', 8000, 'ABC Street', 384923993)\n",
    "# e1.greet()\n",
    "e1.contact_details()\n",
    "# print(e1)"
   ]
  }
 ],
 "metadata": {
  "kernelspec": {
   "display_name": "Python 3",
   "language": "python",
   "name": "python3"
  },
  "language_info": {
   "codemirror_mode": {
    "name": "ipython",
    "version": 3
   },
   "file_extension": ".py",
   "mimetype": "text/x-python",
   "name": "python",
   "nbconvert_exporter": "python",
   "pygments_lexer": "ipython3",
   "version": "3.11.9"
  }
 },
 "nbformat": 4,
 "nbformat_minor": 2
}
