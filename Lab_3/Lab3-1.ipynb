{
 "cells": [
  {
   "cell_type": "markdown",
   "metadata": {},
   "source": [
    "## LAB 3-1\n",
    "\n",
    ">#### Implement a BankAccount class You are tasked to implement a simple BankAccount class in Python. Follow the instructions below to create the class:\n",
    "1. The `BankAccount` class should have the following methods:\n",
    " * `set_details(self, name, balance=0)`: This method sets the account holder's name and initializes the account balance.\n",
    " \n",
    " **NOTE**: *The balance should default to 0 if not provided.*\n",
    " * `display(self)`: This method should display the account holder's name and current balance.\n",
    " * `withdraw(self, amount)`: This method should deduct the specified `amount` from the account balance.\n",
    " * `deposit(self, amount)`: This method should add the specified `amount` to the account balance.\n",
    "2. Create two `BankAccount` objects:\n",
    "* Create an object `a1` and set its details to 'Mike' as the account holder's name and 200 as the initial balance.\n",
    "* Create another object `a2` and set its details to 'Tom' as the account holder's name with the default balance (0).\n",
    "3. After setting up the accounts, perform the following operations:\n",
    "* Withdraw 100 from account `a1`.\n",
    "* Deposit 500 into account `a2`.\n",
    "4. Display the account details after each operation:\n",
    "* After the initial setup of accounts `a1` and `a2`.\n",
    "* After the withdrawal and deposit operations.\n",
    "5. Implement the class and operations within the provided code block"
   ]
  },
  {
   "cell_type": "code",
   "execution_count": 1,
   "metadata": {},
   "outputs": [
    {
     "name": "stdout",
     "output_type": "stream",
     "text": [
      "Initial account details:\n",
      "----------------------\n",
      "| Account Holder Name: Mike | Currernt Balance: 200 |\n",
      "----------------------\n",
      "----------------------\n",
      "| Account Holder Name: Tom | Currernt Balance: 0 |\n",
      "----------------------\n",
      "Previous Balance: 200 | Balance Deducted: -100 | New Current Balance:100\n",
      "--\n",
      "Previous Balance: 0 | Balance Deposited: +500 | New Current Balance:500\n",
      "--\n",
      "Account details after withdrawal and deposit: \n",
      "----------------------\n",
      "| Account Holder Name: Mike | Currernt Balance: 100 |\n",
      "----------------------\n",
      "----------------------\n",
      "| Account Holder Name: Tom | Currernt Balance: 500 |\n",
      "----------------------\n"
     ]
    }
   ],
   "source": [
    "class BankAccount():\n",
    "    def __init__(self):\n",
    "        self\n",
    "\n",
    "    def __repr__(self):\n",
    "        return f\"Account Holder Name: {self.name}: Balance: {self.balance} \"\n",
    "    \n",
    "    def set_details(self, name, balance=0):\n",
    "        self.name = name\n",
    "        self.balance = balance\n",
    "    \n",
    "    def display(self):\n",
    "        return print(f\"----------------------\\n| Account Holder Name: {self.name} | Currernt Balance: {self.balance} |\\n----------------------\")\n",
    "    \n",
    "    @property\n",
    "    def balance(self):\n",
    "        return self._balance\n",
    "    \n",
    "    @balance.setter\n",
    "    def balance(self, value):\n",
    "        self._balance = value\n",
    "\n",
    "    def withdraw(self, amount):\n",
    "        previous_balance = self.balance\n",
    "        self.balance = previous_balance - amount\n",
    "        return print(f\"Previous Balance: {previous_balance} | Balance Deducted: -{amount} | New Current Balance:{previous_balance - amount}\\n--\")\n",
    "    \n",
    "    def deposit(self, amount):\n",
    "        previous_balance = self.balance\n",
    "        self.balance = previous_balance + amount\n",
    "        return print(f\"Previous Balance: {previous_balance} | Balance Deposited: +{amount} | New Current Balance:{previous_balance + amount}\\n--\")\n",
    "\n",
    "a1 = BankAccount()\n",
    "a2 = BankAccount()\n",
    "a1.set_details('Mike', 200)\n",
    "a2.set_details('Tom')\n",
    "print(\"Initial account details:\")\n",
    "a1.display()\n",
    "a2.display()\n",
    "a1.withdraw(100)\n",
    "a2.deposit(500)\n",
    "print(\"Account details after withdrawal and deposit: \")\n",
    "a1.display()\n",
    "a2.display()\n"
   ]
  },
  {
   "cell_type": "markdown",
   "metadata": {},
   "source": [
    "### Your final output should display the account details as follows:\n",
    "\n",
    "**Initial account details:**\n",
    "\n",
    "Mike 200\n",
    "\n",
    "Tom 0\n",
    "\n",
    "**Account details after withdrawal and deposit:**\n",
    "\n",
    "Mike 100\n",
    "\n",
    "Tom 500 "
   ]
  }
 ],
 "metadata": {
  "kernelspec": {
   "display_name": "Python 3",
   "language": "python",
   "name": "python3"
  },
  "language_info": {
   "codemirror_mode": {
    "name": "ipython",
    "version": 3
   },
   "file_extension": ".py",
   "mimetype": "text/x-python",
   "name": "python",
   "nbconvert_exporter": "python",
   "pygments_lexer": "ipython3",
   "version": "3.11.9"
  }
 },
 "nbformat": 4,
 "nbformat_minor": 2
}
