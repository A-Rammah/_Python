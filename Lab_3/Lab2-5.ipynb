{
 "cells": [
  {
   "cell_type": "markdown",
   "metadata": {},
   "source": [
    "## LAB 2-4\n",
    "\n",
    "#### Write a function days_until_birthday that takes two arguments: birth_date and current_date. \n",
    "\n",
    "Both arguments should be in the\n",
    "format ***\"YYYY-MM-DD\"***. The function should calculate and return the number of days left until the next birthday based on the birth_date.\n",
    "\n",
    "If the birthday is <u>**today**</u>, the function should return **`0`** .\n",
    "\n",
    "#### **Input Format:**\n",
    "- birth_date: A string in the format ***\"YYYY-MM-DD\"*** representing the user's birth date.\n",
    "- current_date: A string in the format ***\"YYYY-MM-DD\"*** representing the current date.\n",
    "\n",
    "#### **Output:**\n",
    "- An integer representing the number of days until the next birthday.\n"
   ]
  },
  {
   "cell_type": "markdown",
   "metadata": {},
   "source": [
    "**Sample Input 1:**\n",
    "\n",
    "days_until_birthday(\"1995-06-15\", \"2024-06-01\")\n",
    "\n",
    "**Sample Output 1:**\n",
    "\n",
    "Expected output: 14\n",
    "\n",
    "**Sample Input 2:**\n",
    "\n",
    "days_until_birthday(\"1995-11-11\", \"2024-11-11\")\n",
    "\n",
    "**Sample Output 2:**\n",
    "\n",
    "Expected output: 0\n",
    "\n",
    "**Sample Input 3:**\n",
    "\n",
    "days_until_birthday(\"1995-12-25\", \"2024-12-20\")\n",
    "\n",
    "**Sample Output 3:**\n",
    "\n",
    "Expected output: 5"
   ]
  },
  {
   "cell_type": "code",
   "execution_count": 7,
   "metadata": {},
   "outputs": [
    {
     "name": "stdout",
     "output_type": "stream",
     "text": [
      "1997-24-04 is not a valid date format please try again using ISO format 'YYYY-MM-DD'\n"
     ]
    }
   ],
   "source": [
    "# 1997-24-04\n",
    "# 1997-04-24\n",
    "\n",
    "import datetime as dt\n",
    "\n",
    "# Validate the user's date format:\n",
    "try:\n",
    "    user_input = input(\"Please enter your birthday!\")\n",
    "    datetime_constructors = map(int ,user_input.strip().split('-'))\n",
    "    birth_date = dt.datetime(*datetime_constructors).date()\n",
    "\n",
    "except:\n",
    "    print(f\"{user_input} is not a valid date format please try again using ISO format 'YYYY-MM-DD'\")\n",
    "\n",
    "else:\n",
    "    current_date = dt.date.today()\n",
    "    birth_date_DOY = birth_date.timetuple().tm_yday\n",
    "    Today_DOY = current_date.timetuple().tm_yday\n",
    "\n",
    "    def is_leap(year):\n",
    "        if 1900 <= year < 10 ** 5: \n",
    "            if ( (year % 4 == 0) and (year % 100 == 0) and (year % 400 == 0) ) or ( (year % 4 == 0) and not (year % 100 == 0) ):\n",
    "                result = True \n",
    "            else:\n",
    "                result = False\n",
    "        return result\n",
    "\n",
    "    if birth_date.day == current_date.day:\n",
    "        days_til_birthday = 0\n",
    "        print(\"!!!!!!!!!!!!!!   IT'S YOUR BIRTHDAY  !!!!!!!!!!!!!!\")\n",
    "\n",
    "    elif Today_DOY > birth_date_DOY and not is_leap(current_date.year):\n",
    "        rest_of_year = 365 - Today_DOY\n",
    "        days_til_birthday_of_next_year =  rest_of_year + birth_date_DOY    \n",
    "        print(f\"Next year birthday will be in {days_til_birthday_of_next_year} days!\")\n",
    "\n",
    "    elif Today_DOY > birth_date_DOY and is_leap(current_date.year):\n",
    "        rest_of_year = 366 - Today_DOY\n",
    "        days_til_birthday_of_next_year =  rest_of_year + birth_date_DOY\n",
    "        print(f\"Next year birthday will be in {days_til_birthday_of_next_year} days!\")\n",
    "\n",
    "    elif Today_DOY < birth_date_DOY and not is_leap(current_date.year):\n",
    "        days_til_next_birthday =  birth_date_DOY - Today_DOY\n",
    "        print(f\"Your birthday will be in {days_til_next_birthday} days!\")\n",
    "\n",
    "    elif Today_DOY > birth_date_DOY and is_leap(current_date.year):\n",
    "        lead_day = dt.date(current_date.year, 2, 29)   \n",
    "        rest_of_year = 365 - Today_DOY\n",
    "\n",
    "        if Today_DOY > lead_day:\n",
    "            Today_DOY += 1\n",
    "\n",
    "        days_til_next_birthday =  birth_date_DOY - Today_DOY\n",
    "        days_til_birthday_of_next_year =  rest_of_year + birth_date_DOY\n",
    "        print(f\"Your birthday will be in {days_til_birthday_of_next_year} days!\")\n"
   ]
  }
 ],
 "metadata": {
  "kernelspec": {
   "display_name": "Python 3",
   "language": "python",
   "name": "python3"
  },
  "language_info": {
   "codemirror_mode": {
    "name": "ipython",
    "version": 3
   },
   "file_extension": ".py",
   "mimetype": "text/x-python",
   "name": "python",
   "nbconvert_exporter": "python",
   "pygments_lexer": "ipython3",
   "version": "3.11.9"
  }
 },
 "nbformat": 4,
 "nbformat_minor": 2
}
