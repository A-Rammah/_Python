{
 "cells": [
  {
   "cell_type": "markdown",
   "metadata": {},
   "source": [
    "## LAB 3-4\n",
    "\n",
    "#### Write a generator function `number_sequence` that takes two arguments, ***start*** and ***end***. The generator should yield each number from start up to, <u>*but not including*</u>, end.\n",
    "- Use this generator to print each number in the specified range.\n",
    "\n",
    "**Requirements:**\n",
    "- The function should only yield numbers between start and end - 1.\n",
    "- If start is greater than or equal to end, the generator should yield nothing."
   ]
  },
  {
   "cell_type": "code",
   "execution_count": 3,
   "metadata": {},
   "outputs": [
    {
     "name": "stdout",
     "output_type": "stream",
     "text": [
      "3\n",
      "4\n",
      "5\n",
      "6\n"
     ]
    }
   ],
   "source": [
    "def number_sequence(start, end):\n",
    "    for i in range(start, end):\n",
    "        if start >= end:\n",
    "            break\n",
    "        yield i\n",
    "\n",
    "num_sec = number_sequence(3, 7)\n",
    "for x in num_sec:\n",
    "    print(x)"
   ]
  }
 ],
 "metadata": {
  "kernelspec": {
   "display_name": "Python 3",
   "language": "python",
   "name": "python3"
  },
  "language_info": {
   "codemirror_mode": {
    "name": "ipython",
    "version": 3
   },
   "file_extension": ".py",
   "mimetype": "text/x-python",
   "name": "python",
   "nbconvert_exporter": "python",
   "pygments_lexer": "ipython3",
   "version": "3.11.9"
  }
 },
 "nbformat": 4,
 "nbformat_minor": 2
}
