{
 "cells": [
  {
   "cell_type": "markdown",
   "metadata": {},
   "source": [
    "Task\n",
    "The provided code stub reads and integer n, from STDIN. For all non-negative integers i<n, print i^2\n",
    "\n",
    "Example\n",
    "The list of non-negative integers that are less than n=3 is [0,1,2] . Print the square of each number on a separate line.\n",
    "0\n",
    "1\n",
    "4\n",
    "\n",
    "Input Format\n",
    "The first and only line contains the integer,n.\n",
    "\n",
    "Constraints\n",
    "1<= n <= 20\n",
    "\n",
    "Output Format\n",
    "Print lines, one corresponding to each i.\n",
    "\n",
    "Sample Input 0\n",
    "5\n",
    "\n",
    "Sample Output 0\n",
    "0\n",
    "1\n",
    "4\n",
    "9\n",
    "16"
   ]
  },
  {
   "cell_type": "code",
   "execution_count": 7,
   "metadata": {},
   "outputs": [
    {
     "name": "stdout",
     "output_type": "stream",
     "text": [
      "0\n",
      "1\n",
      "4\n",
      "9\n",
      "16\n",
      "25\n"
     ]
    }
   ],
   "source": [
    "entry = int(input())\n",
    "\n",
    "if 1 <= entry <= 20:\n",
    "    for i in range(entry):\n",
    "        print(i ** 2)"
   ]
  }
 ],
 "metadata": {
  "kernelspec": {
   "display_name": "Python 3",
   "language": "python",
   "name": "python3"
  },
  "language_info": {
   "codemirror_mode": {
    "name": "ipython",
    "version": 3
   },
   "file_extension": ".py",
   "mimetype": "text/x-python",
   "name": "python",
   "nbconvert_exporter": "python",
   "pygments_lexer": "ipython3",
   "version": "3.11.9"
  }
 },
 "nbformat": 4,
 "nbformat_minor": 2
}
