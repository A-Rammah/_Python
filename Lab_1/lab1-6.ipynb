{
 "cells": [
  {
   "cell_type": "code",
   "execution_count": 30,
   "metadata": {},
   "outputs": [
    {
     "name": "stdout",
     "output_type": "stream",
     "text": [
      "Input:{'A': 50, 'B': 70, 'C': 90}\n",
      "Threshold:50\n",
      "{'B': 70}\n",
      "Threshold:50\n",
      "{'B': 70, 'C': 90}\n",
      "{'B': 70, 'C': 90}\n",
      "80.0\n",
      "{'B': 70, 'C': 90}\n",
      "{'B': -10.0, 'C': 10.0}\n"
     ]
    }
   ],
   "source": [
    "#%%\n",
    "all_students = int(input('please enter students number: '))\n",
    "threshold = int(input('please enter grades threshold: '))\n",
    "student_grades = {} #empty dict to fill\n",
    " \n",
    " \n",
    "for _ in range(all_students):\n",
    "    name = input(\"Enter student name: \")\n",
    "    grade = int(input('Enter grade:'))\n",
    "    # 30\n",
    "    student_grades[name] = grade\n",
    "print(\"Input:\" + str(student_grades))\n",
    "\n",
    "# if student_grades > threshold:\n",
    "# for grade in student_grades:\n",
    "#     if stu> threshold:\n",
    "#          print('the students above the threshold ', {name})\n",
    "succesful_students = {}\n",
    "\n",
    "for _name, _grade in student_grades.items():\n",
    "    #after many many trials with TypeErrors in the comparison statement, i'm trying this debugging line:\n",
    "  # print(f\"Comparing grade {grade} with threshold {threshold}\") \n",
    "  #it worked after writing the debugging line and then after deleting it even tho i didn't change anything in the whole code!\n",
    "    # _grade = 60\n",
    "    # grade = 30\n",
    "    \n",
    "    if _grade > threshold:\n",
    "        print(\"Threshold:\" + str(threshold))\n",
    "        #print(name)\n",
    "        # succesful_students_dict = {}\n",
    "        succesful_students[_name] = _grade\n",
    "        #succesful_students.append(succesful_students_dict)\n",
    "        print(succesful_students)\n",
    "        # succesful_students.update({_name: _grade})\n",
    "        #print(succesful_students_dict)\n",
    "        #print(\"name in If block:\" + name)\n",
    "        #print(grade)\n",
    "    #elif grade < threshold:\n",
    "    #    print(\"Name in else block:\" + name)\n",
    "    #    #print(grade)\n",
    "    #    #print(\"student has failed\")\n",
    "    # We need to know if no one has scored above threshold\n",
    "\n",
    "print(succesful_students)\n",
    "\n",
    "############################################################\n",
    "if len(succesful_students) == 0:\n",
    "        print(\"No students scored above the threshold.\")\n",
    "\n",
    "############################################################    \n",
    "avg = sum(succesful_students.values()) / len(succesful_students)\n",
    "print(avg)\n",
    "\n",
    "print(succesful_students)\n",
    "\n",
    "for name_, grade_ in succesful_students.items():\n",
    "    succesful_students[name_] = grade_ - avg\n",
    "\n",
    "print(succesful_students)\n"
   ]
  }
 ],
 "metadata": {
  "kernelspec": {
   "display_name": "Python 3",
   "language": "python",
   "name": "python3"
  },
  "language_info": {
   "codemirror_mode": {
    "name": "ipython",
    "version": 3
   },
   "file_extension": ".py",
   "mimetype": "text/x-python",
   "name": "python",
   "nbconvert_exporter": "python",
   "pygments_lexer": "ipython3",
   "version": "3.11.9"
  }
 },
 "nbformat": 4,
 "nbformat_minor": 2
}
