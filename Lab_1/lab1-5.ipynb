{
 "cells": [
  {
   "cell_type": "markdown",
   "metadata": {},
   "source": [
    "Given the names and grades for each student in a class of N students, store them in a nested list and print the name(s) of any student(s)\n",
    "having the second lowest grade.\n",
    "\n",
    "**Note** : If there are multiple students with the second lowest grade, order their names alphabetically and print each name on a new line.\n",
    "\n",
    "Example\n",
    "recordes = [[‘chi’,20],[‘beta’,50],[‘alpha’,50]]\n",
    "The ordered list of scores is [20, 50], so the second lowest score is 50.\n",
    "There are two students with that score:[’beta’, ‘alpha’].\n",
    "Ordered alphabetically, the names are printed as:\n",
    "alpha \n",
    "beta"
   ]
  },
  {
   "cell_type": "markdown",
   "metadata": {},
   "source": [
    "Sort the list \n",
    "Get the 2nd lowest from the grades list. "
   ]
  },
  {
   "cell_type": "code",
   "execution_count": 13,
   "metadata": {},
   "outputs": [
    {
     "name": "stdout",
     "output_type": "stream",
     "text": [
      "['Ali']\n",
      "['Ali', 80]\n",
      "Enter 'close' to terminate the program if you're done adding students!\n",
      "[['Ali', 80]]\n",
      "['Ahmed']\n",
      "['Ahmed', 70]\n",
      "Enter 'close' to terminate the program if you're done adding students!\n",
      "[['Ali', 80], ['Ahmed', 70]]\n",
      "['Basem']\n",
      "['Basem', 70]\n",
      "Enter 'close' to terminate the program if you're done adding students!\n",
      "[80, 70, 70]\n",
      "sorted:\n",
      "[70, 70, 80]\n",
      "lowest_2nd grade:  70\n",
      "Students with lowest 2nd grade:  2\n",
      "['Ahmed', 'Basem']\n",
      "Ahmed\n",
      "Basem\n"
     ]
    }
   ],
   "source": [
    "# Lab1-5\n",
    "\n",
    "students = []\n",
    "\n",
    "while True:\n",
    "    student = []\n",
    "\n",
    "    name = str(input(\"Enter student name:\"))\n",
    "    student.append(name)\n",
    "    print(student)\n",
    "\n",
    "    grade = int(input(\"Enter student grade:\"))\n",
    "    student.append(grade)\n",
    "    print(student)\n",
    "\n",
    "    students.append(student)\n",
    "\n",
    "    print(\"Enter 'close' to terminate the program if you're done adding students!\")\n",
    "    if input().lower() == 'close':\n",
    "        break\n",
    "    print(students)    \n",
    "\n",
    "grades = []\n",
    "\n",
    "for _student in students:\n",
    "    grades.append(_student[1])\n",
    "\n",
    "# print(\"Reverse sorted grades:\")\n",
    "# grades.sort(reverse=True)\n",
    "print(grades)\n",
    "print(\"sorted:\")\n",
    "sorted_grades = sorted(grades)\n",
    "print(sorted_grades)\n",
    "\n",
    "# Get the second element in the sorted list.\n",
    "lowest_2nd = sorted_grades[1] \n",
    "print(\"lowest_2nd grade: \", lowest_2nd)\n",
    "\n",
    "lowest_2nd_count = grades.count(lowest_2nd)\n",
    "\n",
    "# Check if it has duplicates.\n",
    "if lowest_2nd_count > 1:\n",
    "    print(\"Students with lowest 2nd grade: \", lowest_2nd_count)\n",
    "# Get the corresponding names of duplicates if exists.\n",
    "grades_2nd_low_names = []\n",
    "\n",
    "for student_ in students:\n",
    "    if student_[1] == lowest_2nd:\n",
    "        grades_2nd_low_names.append(student_[0])\n",
    "\n",
    "grades_2nd_low_names.sort()\n",
    "print(grades_2nd_low_names)\n",
    "\n",
    "for name_ in grades_2nd_low_names:\n",
    "    print(name_)"
   ]
  }
 ],
 "metadata": {
  "kernelspec": {
   "display_name": "Python 3",
   "language": "python",
   "name": "python3"
  },
  "language_info": {
   "codemirror_mode": {
    "name": "ipython",
    "version": 3
   },
   "file_extension": ".py",
   "mimetype": "text/x-python",
   "name": "python",
   "nbconvert_exporter": "python",
   "pygments_lexer": "ipython3",
   "version": "3.11.9"
  }
 },
 "nbformat": 4,
 "nbformat_minor": 2
}
