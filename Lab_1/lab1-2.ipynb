{
 "cells": [
  {
   "cell_type": "markdown",
   "metadata": {},
   "source": [
    "The task requires performing conditional actions based on the given integer input. \n",
    "\n",
    "Here are the conditions:\n",
    "• If the integer is odd, print \"Weird.”\n",
    "• If the integer is even and in the inclusive range of 2 to 5, print \"Not Weird.”\n",
    "meaning = 2 3 4 5\n",
    "• If the integer is even and in the inclusive range of 6 to 20, print \"Weird.”\n",
    "• If the integer is even and greater than 20, print \"Not Weird.\"\n",
    "\n",
    "The program takes a single positive integer as input and outputs whether the number is \"Weird\" or \"Not Weird\" based on the conditions.\n",
    "\n",
    "Example:\n",
    "Input: 3 Output: Weird Explanation: 3 is odd, so it is considered \"Weird.\"\n",
    "Input: 24 Output: Not Weird Explanation: 24 is even, and it falls into the range greater than 20, so it is considered \"Not Weird."
   ]
  },
  {
   "cell_type": "code",
   "execution_count": 28,
   "metadata": {},
   "outputs": [
    {
     "name": "stdout",
     "output_type": "stream",
     "text": [
      "Entry must be larger than zero\n"
     ]
    }
   ],
   "source": [
    "user_entry = int(input())\n",
    "\n",
    "if user_entry % 2 != 0:\n",
    "    print(\"Weird\")\n",
    "elif (user_entry % 2 == 0 and 2 <= user_entry <= 5):\n",
    "    print(\"Not Weird\")\n",
    "elif (user_entry % 2 == 0 and 6 <= user_entry <= 20):\n",
    "    print(\"Weird\")\n",
    "elif (user_entry % 2 == 0 and user_entry > 20):\n",
    "    print(\"Not Weird\")\n",
    "elif user_entry <= 0:\n",
    "    print(\"Entry must be larger than zero.\")\n",
    "else:\n",
    "    print(\"Invalid entry\")"
   ]
  }
 ],
 "metadata": {
  "kernelspec": {
   "display_name": "Python 3",
   "language": "python",
   "name": "python3"
  },
  "language_info": {
   "codemirror_mode": {
    "name": "ipython",
    "version": 3
   },
   "file_extension": ".py",
   "mimetype": "text/x-python",
   "name": "python",
   "nbconvert_exporter": "python",
   "pygments_lexer": "ipython3",
   "version": "3.11.9"
  }
 },
 "nbformat": 4,
 "nbformat_minor": 2
}
