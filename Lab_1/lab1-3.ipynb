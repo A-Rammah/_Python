{
 "cells": [
  {
   "cell_type": "markdown",
   "metadata": {},
   "source": [
    "The provided code stub reads two integers from STDIN. Add code to print three lines where:\n",
    "1. The first line contains the sum of the two numbers.\n",
    "2. The second line contains the difference of the two numbers (first - second).\n",
    "3. The third line contains the product of the two numbers.\n",
    "\n",
    "#### Constraints\n",
    "1<= a < 100\n",
    "1<= b < 50\n",
    "\n",
    "#### Example\n",
    "a = 3\n",
    "b = 5\n",
    "\n",
    "#### Print the following:\n",
    "8\n",
    "-2\n",
    "15"
   ]
  },
  {
   "cell_type": "code",
   "execution_count": 1,
   "metadata": {},
   "outputs": [
    {
     "name": "stdout",
     "output_type": "stream",
     "text": [
      "7\n",
      "3\n",
      "10\n"
     ]
    }
   ],
   "source": [
    "a = int(input(\"Enter 1st value:\"))\n",
    "b = int(input(\"Enter 2nd value:\"))\n",
    "\n",
    "if 1 <= a <= 100 and 1 <= b <= 50:\n",
    "    print(a + b)\n",
    "    print(a - b)\n",
    "    print(a * b)"
   ]
  }
 ],
 "metadata": {
  "kernelspec": {
   "display_name": "Python 3",
   "language": "python",
   "name": "python3"
  },
  "language_info": {
   "codemirror_mode": {
    "name": "ipython",
    "version": 3
   },
   "file_extension": ".py",
   "mimetype": "text/x-python",
   "name": "python",
   "nbconvert_exporter": "python",
   "pygments_lexer": "ipython3",
   "version": "3.11.9"
  }
 },
 "nbformat": 4,
 "nbformat_minor": 2
}
